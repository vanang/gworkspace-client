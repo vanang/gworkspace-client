{
 "cells": [
  {
   "cell_type": "code",
   "execution_count": null,
   "metadata": {
    "pycharm": {
     "is_executing": true
    }
   },
   "outputs": [],
   "source": [
    "# reload for every python code before executing everytime\n",
    "%load_ext autoreload\n",
    "%autoreload 2"
   ]
  },
  {
   "cell_type": "markdown",
   "metadata": {},
   "source": [
    "# 라이브러리 임포트하기"
   ]
  },
  {
   "cell_type": "code",
   "execution_count": null,
   "metadata": {},
   "outputs": [],
   "source": [
    "import pandas as pd\n",
    "import os\n",
    "import sys"
   ]
  },
  {
   "cell_type": "code",
   "execution_count": null,
   "metadata": {},
   "outputs": [],
   "source": [
    "from gworkspace_client.GoogleSheet import GoogleSheet"
   ]
  },
  {
   "cell_type": "markdown",
   "metadata": {},
   "source": [
    "# GoogleSheet를 사용하기 위한 준비\n",
    "\n",
    "1. Token Path 다운로드 및 패스 설정\n",
    "2. Client Secret path 다운로드 및 패스 설정\n",
    "3. 기존 Sheet가 존재하는 경우 - 접근할 Google Sheet에 대한 정보: URL, ID 준비 (신규 Sheet 생성시에는 불필요)"
   ]
  },
  {
   "cell_type": "code",
   "execution_count": null,
   "metadata": {},
   "outputs": [],
   "source": [
    "# Require your own token and client secret path file\n",
    "token_path = \"...\"\n",
    "client_secret_path='...'"
   ]
  },
  {
   "cell_type": "code",
   "execution_count": null,
   "metadata": {},
   "outputs": [],
   "source": [
    "# Make sure you have a writer access to this spreadsheet\n",
    "URL = \"https://docs.google.com/spreadsheets/d/...\"\n",
    "\n",
    "# Spreadsheet Id is typically last part of URL, which seems hashed or something\n",
    "spreadsheet_id = URL.split(\"/\")[-1]"
   ]
  },
  {
   "cell_type": "markdown",
   "metadata": {},
   "source": [
    "# Google Sheet 객체 생성"
   ]
  },
  {
   "cell_type": "code",
   "execution_count": null,
   "metadata": {},
   "outputs": [],
   "source": [
    "gsheet = GoogleSheet(token_path=token_path, client_secret_path=client_secret_path, sheet_url=URL, sheet_id=spreadsheet_id)"
   ]
  },
  {
   "cell_type": "markdown",
   "metadata": {},
   "source": [
    "# Google Sheet의 Sheet 제목 읽기"
   ]
  },
  {
   "cell_type": "code",
   "execution_count": null,
   "metadata": {},
   "outputs": [],
   "source": [
    "titles = gsheet.get_sheet_titles()"
   ]
  },
  {
   "cell_type": "code",
   "execution_count": null,
   "metadata": {},
   "outputs": [],
   "source": [
    "print(titles)"
   ]
  },
  {
   "cell_type": "markdown",
   "metadata": {},
   "source": [
    "# 개별 Sheet를 Pandas DataFrame 객체로 읽어오기"
   ]
  },
  {
   "cell_type": "code",
   "execution_count": null,
   "metadata": {},
   "outputs": [],
   "source": [
    "customer_df = gsheet.read_single_sheet(sheet_title=titles[0])"
   ]
  },
  {
   "cell_type": "code",
   "execution_count": null,
   "metadata": {},
   "outputs": [],
   "source": [
    "category_df = gsheet.read_single_sheet(sheet_title=titles[1])"
   ]
  },
  {
   "cell_type": "code",
   "execution_count": null,
   "metadata": {},
   "outputs": [],
   "source": [
    "customer_df.columns = customer_df.iloc[0]\n",
    "customer_df = customer_df.iloc[1:]"
   ]
  },
  {
   "cell_type": "code",
   "execution_count": null,
   "metadata": {},
   "outputs": [],
   "source": [
    "customer_df.head()"
   ]
  },
  {
   "cell_type": "code",
   "execution_count": null,
   "metadata": {},
   "outputs": [],
   "source": [
    "help(gsheet.append_values)"
   ]
  },
  {
   "cell_type": "markdown",
   "metadata": {},
   "source": [
    "# 첫 번째 Sheet의 마지막 Row에 값 추가하기"
   ]
  },
  {
   "cell_type": "code",
   "execution_count": null,
   "metadata": {},
   "outputs": [],
   "source": [
    "# adding new values := Customer ID | CustomerName | ContactName | Address | City | PostalCode | Country\n",
    "# adding a row\n",
    "add_values = [[92, 'Hong ghil-dong', 'James', 'Pangyo', 'Seongnam', '12345', 'S. Korea']]"
   ]
  },
  {
   "cell_type": "code",
   "execution_count": null,
   "metadata": {},
   "outputs": [],
   "source": [
    "# append value at the end of the sheet\n",
    "gsheet.append_values(range_name=titles[0]+'!A93:G', value_input_option=\"USER_ENTERED\", _values=add_values)"
   ]
  },
  {
   "cell_type": "code",
   "execution_count": null,
   "metadata": {},
   "outputs": [],
   "source": [
    "# check the value has been appended\n",
    "new_customer_df = gsheet.read_single_sheet(sheet_title=titles[0])"
   ]
  },
  {
   "cell_type": "code",
   "execution_count": null,
   "metadata": {},
   "outputs": [],
   "source": [
    "new_customer_df.tail()"
   ]
  },
  {
   "cell_type": "markdown",
   "metadata": {},
   "source": [
    "# 현재 GoogleSheet 파일에 새로운 빈 Worksheet 추가하기"
   ]
  },
  {
   "cell_type": "code",
   "execution_count": null,
   "metadata": {},
   "outputs": [],
   "source": [
    "gsheet.add_sheet(sheet_title=\"new_sheet\")"
   ]
  },
  {
   "cell_type": "code",
   "execution_count": null,
   "metadata": {},
   "outputs": [],
   "source": [
    "gsheet.get_sheet_titles()"
   ]
  },
  {
   "cell_type": "markdown",
   "metadata": {},
   "source": [
    "# 새로운 Sheet 생성하고, DataFrame으로 작성하기\n",
    "\n",
    "새로운 Sheet를 생성하는 경우에는 Token과 Client Secret만을 준비하고 Sheet URL, Sheet ID는 생성 후 자동 할당되므로 None으로 넘겨줍니다.\n",
    "\n",
    "단, 새로운 Sheet 생성을 위해서는 Drive 접근 권한이 있는 Token과 Client Secret을 별도로 준비해야합니다. (기존 Token과 Secret에 Drive 권한이 있는 경우 불필요)"
   ]
  },
  {
   "cell_type": "code",
   "execution_count": null,
   "metadata": {},
   "outputs": [],
   "source": [
    "new_gsheet = GoogleSheet(token_path='...', client_secret_path='...', sheet_id=None, sheet_url=None) "
   ]
  },
  {
   "cell_type": "code",
   "execution_count": null,
   "metadata": {},
   "outputs": [],
   "source": [
    "new_gsheet.create_sheet_file(sheet_name='새로운 샘플 시트', df = customer_df, folder_id=\"...\", \n",
    "                             drive_token_path='...', \n",
    "                             drive_client_secret_path='...')                           "
   ]
  },
  {
   "cell_type": "code",
   "execution_count": null,
   "metadata": {},
   "outputs": [],
   "source": [
    "new_gsheet.sheet_id"
   ]
  },
  {
   "cell_type": "code",
   "execution_count": null,
   "metadata": {},
   "outputs": [],
   "source": [
    "new_gsheet.sheet_url"
   ]
  },
  {
   "cell_type": "code",
   "execution_count": null,
   "metadata": {},
   "outputs": [],
   "source": []
  }
 ],
 "metadata": {
  "kernelspec": {
   "display_name": "Python 3.8.10 64-bit",
   "language": "python",
   "name": "python3"
  },
  "language_info": {
   "codemirror_mode": {
    "name": "ipython",
    "version": 3
   },
   "file_extension": ".py",
   "mimetype": "text/x-python",
   "name": "python",
   "nbconvert_exporter": "python",
   "pygments_lexer": "ipython3",
   "version": "3.8.10"
  },
  "vscode": {
   "interpreter": {
    "hash": "31f2aee4e71d21fbe5cf8b01ff0e069b9275f58929596ceb00d14d90e3e16cd6"
   }
  }
 },
 "nbformat": 4,
 "nbformat_minor": 4
}
