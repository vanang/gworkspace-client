{
 "cells": [
  {
   "cell_type": "code",
   "execution_count": null,
   "metadata": {},
   "outputs": [],
   "source": [
    "# reload for every python code before executing everytime\n",
    "%load_ext autoreload\n",
    "%autoreload 2"
   ]
  },
  {
   "cell_type": "markdown",
   "metadata": {},
   "source": [
    "# 라이브러리 임포트하기"
   ]
  },
  {
   "cell_type": "code",
   "execution_count": null,
   "metadata": {},
   "outputs": [],
   "source": [
    "import pandas as pd\n",
    "import os\n",
    "import sys"
   ]
  },
  {
   "cell_type": "code",
   "execution_count": null,
   "metadata": {},
   "outputs": [],
   "source": [
    "from gworkspace_client.GoogleDrive import GoogleDrive"
   ]
  },
  {
   "cell_type": "markdown",
   "metadata": {},
   "source": [
    "# GoogleDrive를 사용하기 위한 준비\n",
    "\n",
    "1. Token Path 다운로드 및 패스 설정\n",
    "2. Client Secret path 다운로드 및 패스 설정\n",
    "3. 접근할 Google Drive에 대한 정보: URL, ID 준비"
   ]
  },
  {
   "cell_type": "code",
   "execution_count": null,
   "metadata": {},
   "outputs": [],
   "source": [
    "# Require your own token and client secret path file\n",
    "token_path = '../config/token_drive.json'\n",
    "client_secret_path = '../config/client_secret_129061850532-86jjofk7hgjdtt9e5ii0k4tq2kkgef2n.apps.googleusercontent.com.json'"
   ]
  },
  {
   "cell_type": "markdown",
   "metadata": {},
   "source": [
    "# Google Drive 객체 생성"
   ]
  },
  {
   "cell_type": "code",
   "execution_count": null,
   "metadata": {},
   "outputs": [],
   "source": [
    "gdrive = GoogleDrive(token_path=token_path, client_secret_path=client_secret_path)"
   ]
  },
  {
   "cell_type": "markdown",
   "metadata": {},
   "source": [
    "# Google Drive의 Sub Folder 생성하기\n",
    "\n",
    "부모 폴더 아래에 새로운 생성 폴더를 생성하기\n",
    "\n",
    "* parent_folder_id: Sub Folder의 부모 폴더 ID. URL의 마지막 부분\n",
    "* sub_folder_name: 생성할 Folder의 이름"
   ]
  },
  {
   "cell_type": "code",
   "execution_count": null,
   "metadata": {},
   "outputs": [],
   "source": [
    "# Require your own parent folder\n",
    "sub_folder_id = gdrive.create_folder(parent_folder_id=\"13LZVpH4p-szXM4Chtg7-wq1zAJO7oqoM\", sub_folder_name=\"test_folder\")"
   ]
  },
  {
   "cell_type": "code",
   "execution_count": null,
   "metadata": {},
   "outputs": [],
   "source": [
    "print('Sub-folder ID:', sub_folder_id)"
   ]
  },
  {
   "cell_type": "markdown",
   "metadata": {},
   "source": [
    "# Sub Folder로 파일 복사하기\n",
    "\n",
    "샘플 파일 하나를 Sub folder에 복사하기\n",
    "\n",
    "* source_file_id: 복사할 파일의 ID\n",
    "* target_folder_id: 복사할 대상 폴더의 ID\n",
    "* filename: 복사할 파일 이름"
   ]
  },
  {
   "cell_type": "code",
   "execution_count": null,
   "metadata": {},
   "outputs": [],
   "source": [
    "# Require your own sample file\n",
    "file_id = '...'\n",
    "sample_copied_file_id = gdrive.copy_file(source_file_id=file_id, target_folder_id=sub_folder_id, filename=\"sample_copied_file\")"
   ]
  },
  {
   "cell_type": "code",
   "execution_count": null,
   "metadata": {},
   "outputs": [],
   "source": [
    "print('Sample copied file id:', sample_copied_file_id)"
   ]
  },
  {
   "cell_type": "markdown",
   "metadata": {},
   "source": [
    "# 폴더 목록 보기\n",
    "* parent_id: 폴더 목록을 볼 대상 폴더의 ID"
   ]
  },
  {
   "cell_type": "code",
   "execution_count": null,
   "metadata": {},
   "outputs": [],
   "source": [
    "folder_list = gdrive.list_folders(parent_id=\"...\")"
   ]
  },
  {
   "cell_type": "code",
   "execution_count": null,
   "metadata": {},
   "outputs": [],
   "source": [
    "folder_list"
   ]
  },
  {
   "cell_type": "markdown",
   "metadata": {},
   "source": [
    "# 폴더 내의 파일 목록 보기\n",
    "* folder_id: 파일 목록을 볼 대상 폴더의 ID"
   ]
  },
  {
   "cell_type": "code",
   "execution_count": null,
   "metadata": {},
   "outputs": [],
   "source": [
    "file_list = gdrive.list_files(folder_id=folder_list[0][1])"
   ]
  },
  {
   "cell_type": "code",
   "execution_count": null,
   "metadata": {},
   "outputs": [],
   "source": [
    "file_list"
   ]
  },
  {
   "cell_type": "markdown",
   "metadata": {},
   "source": [
    "# 폴더 내에서 특정 파일 존재 유무 파악하기\n",
    "* parent_id: 파일 존재 여부를 보려는 대상 폴더의 ID\n",
    "* file_id_or_name: 존재 여부를 확인하려는 파일의 ID 또는 파일 이름"
   ]
  },
  {
   "cell_type": "code",
   "execution_count": null,
   "metadata": {},
   "outputs": [],
   "source": [
    "gdrive.file_exists(parent_id=folder_list[0][1], file_id_or_name='sample_copied_file')"
   ]
  },
  {
   "cell_type": "markdown",
   "metadata": {},
   "source": [
    "# 스프레드시트 생성하기\n",
    "빈 스프레드시트를 생성합니다.\n",
    "* folder_id: 빈 스프레드시트를 생성하려는 폴더 ID\n",
    "* filename: 스프레드시트의 이름\n",
    "* filetype: 'spreadsheet', 'document', 'drawing', 'form', 'presentation' 등 google workspace 제품군 및 다양한 파일 지정하여 생성 가능. filetype에 대한 자세한 설명은 https://developers.google.com/drive/api/guides/mime-types 에서 확인\n"
   ]
  },
  {
   "cell_type": "code",
   "execution_count": null,
   "metadata": {},
   "outputs": [],
   "source": [
    "sheet_id = gdrive.create_file(folder_id=\"13LZVpH4p-szXM4Chtg7-wq1zAJO7oqoM\", filename='empty_sheet', filetype='spreadsheet')"
   ]
  },
  {
   "cell_type": "code",
   "execution_count": null,
   "metadata": {},
   "outputs": [],
   "source": [
    "print(sheet_id)"
   ]
  },
  {
   "cell_type": "markdown",
   "metadata": {},
   "source": [
    "# 이미지 파일 업로드하기\n",
    "로컬 파일(이미지, 동영상 등 blob)을 구글 드라이브로 업로드합니다.\n",
    "\n",
    "* folder_id: 파일을 업로드할 폴더 ID\n",
    "* local_file_path: 업로드할 파일의 path\n",
    "* mimetype: 업로드할 파일의 mimetype으로 파일과 미스매치가 발생하면 Error 발생함. 자세한 mimetype은 https://developer.mozilla.org/en-US/docs/Web/HTTP/Basics_of_HTTP/MIME_types 에서 확인"
   ]
  },
  {
   "cell_type": "code",
   "execution_count": null,
   "metadata": {},
   "outputs": [],
   "source": [
    "baseid = \"...\"\n",
    "file_id = gdrive.upload_file(folder_id=baseid, local_file_path='...', mimetype='image/png')"
   ]
  },
  {
   "cell_type": "markdown",
   "metadata": {},
   "source": [
    "# 파일 다운로드하기\n",
    "구글 드라이브의 파일은 로컬로 다운로드합니다.  google workspace 문서(google doc, google spreadsheet 등)은 현재 미지원이며, blob 파일만 지원합니다.\n",
    "* file_id: 다운로드받을 파일의 ID\n",
    "* download_filepath: 다운로드받아 로컬이 저장할 파일이름"
   ]
  },
  {
   "cell_type": "code",
   "execution_count": null,
   "metadata": {},
   "outputs": [],
   "source": [
    "fileid = \"...\"\n",
    "filecontent = gdrive.download_file(real_file_id=fileid, download_filepath='...')"
   ]
  },
  {
   "cell_type": "markdown",
   "metadata": {},
   "source": [
    "# 파일 이름으로 ID 찾기\n",
    "지정한 폴더 내에서 파일 이름으로 찾고, 일치하는 모든 파일의 ID와 이름을 함께 반환합니다.\n",
    "* folder_id: 파일을 찾으려는 대상 폴더\n",
    "* file_name: 찾으려는 대상 파일의 이름"
   ]
  },
  {
   "cell_type": "code",
   "execution_count": null,
   "metadata": {},
   "outputs": [],
   "source": [
    "file_ids = gdrive.get_file_ids(folder_id=baseid, file_name='...')"
   ]
  },
  {
   "cell_type": "code",
   "execution_count": null,
   "metadata": {},
   "outputs": [],
   "source": [
    "file_ids"
   ]
  },
  {
   "cell_type": "markdown",
   "metadata": {},
   "source": [
    "# 파일 Export 하기\n",
    "\n",
    "spread sheet 파일 등 Google Workspace 문서를 지정한 mime type 파일로 export해서 local에 저장합니다\n",
    "\n",
    "* file_id: export 하려는 파일\n",
    "* export_path: export해서 저장하려는 파일 경로(이름과 확장자 포함)\n",
    "* mime_type: export하여 저장할 파일 타입으로 https://developers.google.com/drive/api/guides/ref-export-formats 에서 확인 가능합니다."
   ]
  },
  {
   "cell_type": "code",
   "execution_count": null,
   "metadata": {},
   "outputs": [],
   "source": [
    "ret = gdrive.export_file(file_id='...', export_path='...', mime_type='application/zip')"
   ]
  },
  {
   "cell_type": "code",
   "execution_count": null,
   "metadata": {},
   "outputs": [],
   "source": []
  }
 ],
 "metadata": {
  "kernelspec": {
   "display_name": "Python 3.8.10 64-bit",
   "language": "python",
   "name": "python3"
  },
  "language_info": {
   "codemirror_mode": {
    "name": "ipython",
    "version": 3
   },
   "file_extension": ".py",
   "mimetype": "text/x-python",
   "name": "python",
   "nbconvert_exporter": "python",
   "pygments_lexer": "ipython3",
   "version": "3.8.10"
  },
  "vscode": {
   "interpreter": {
    "hash": "31f2aee4e71d21fbe5cf8b01ff0e069b9275f58929596ceb00d14d90e3e16cd6"
   }
  }
 },
 "nbformat": 4,
 "nbformat_minor": 4
}
